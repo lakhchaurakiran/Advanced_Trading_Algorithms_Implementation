{
 "cells": [
  {
   "cell_type": "markdown",
   "metadata": {},
   "source": [
    "## Piotroski F-Score Trading Strategy\n",
    "\n",
    "Piotroski's F-Score strategy is an algorithmic trading strategy based on a fundamental analysis of the historical financial statements made by a comapny's management. It is described in the paper by Joseph D. Piotroski titled *\"Value Investing: The use of historical financial information to separate winners from losers\"*.\n",
    "\n",
    "Using this strategy we can select from a universe of all value firms (i.e. undervalued firms or firms with high ratio of book value to market value), the firms which have been incorrectly undervalued and have a strong potential to get the correct market valuation in the near future i.e. *winners* and the firms which are rightly valued low and are expected to go down i.e. *losers*. The final trading strategy will be to go long on the winners and short on the losers.\n",
    "\n",
    "**Piotroski's F-Score** is a sum of 9 elements consiting of 3 types of measures viz. 4 profitability measures, 3 capital structure measures and 2 operational efficiency measures.\n",
    "\n",
    "**Components of Piotroski's F-score**:\n",
    "\n",
    "**I. Profitability measures**:\n",
    "1. **ROA** : This component signifies the level of profitability of a firm. ROA or Return on Assets is measured as the net income before extraordinary items scaled by the beginning of the year total assets. The correspoding F-Score element, F_ROA = 1 if ROA > 0 and 0 otherwise.\n",
    "\n",
    "2. **CFO** : This component signifies the level of cash flows of a firm. CFO or Cash Flow from Operations is caluclated as the total cash flow from operating activities (i.e. inflows and outflows from regular business activities obtained from the Cash Flow statement) scaled by the beginning of the year total assets. The correspnding F-Score element, F_CFO = 1 if CFO > 0 and 0 otherwise.\n",
    "\n",
    "3. **$\\Delta$ROA** : This component signifies the change in profitability of a firm. $\\Delta$ROA is measured as the current year's ROA minus the previous year's ROA. The corresponding F-Score element, F_$\\Delta$ROA = 1 if $\\Delta$ROA >0 and 0 otherwise.\n",
    "\n",
    "4. **Accrual** : Accrual is the part of revenue which the firm has not received in cash. Accrual is measured as ROA minus CFO i.e. the net income before extraordinary items minus cash flow from operations, the whole scaled by the beginning of the year total assets. The corresponding F-Score element F_ACCRUAL = 1 if Accrual < 0 and 0 otherwise.\n",
    "\n",
    "**II. Capital Structure measures**:\n",
    "\n",
    "5. **$\\Delta$LEVER** : For distressed firms, increase in long-term debt is bad sign. Leverage is calculated as the total long term debt scaled by the average total asset. $\\Delta$LEVER is euqal to the current year's leverage minus the previous year's leverage. The corresponsing F-Score element, F_$\\Delta$LEVER = 1 if $\\Delta$LEVER < 0 and 0 otherwise.\n",
    "\n",
    "6. **$\\Delta$LIQUID** : This component measures the short-term liquidity. Increase in short-term debt => decrease in current ratio/liquidity => bad for distressed firms. Current ratio is defined as the ratio of the firm's total current assets and current liabilities. $\\Delta$LIQUID is measured as the current year's current ratio minus the previous year's current ratio. The corresponding, F-Score element, F_$\\Delta$LIQUID = 1 if $\\Delta$LIQUID > 0 and 0 otherwise.\n",
    "\n",
    "7. **EQ_OFFER** : For distressed firms repeatedly raising money is not a good sign. EQ_OFFER = 1 if the firm didnot issue common equity in the year preceding the portfolio formation, 0 otherwise.\n",
    "\n",
    "**III. Operating efficiency measures**:\\\n",
    "ROA = $\\frac{\\rm Profit}{\\rm Total Assets}$ = $\\frac{\\rm Profit}{\\rm Sales} \\times \\frac{\\rm Sales}{\\rm Total Assets}$ = $Margin \\times Turnover$\n",
    "\n",
    "\n",
    "8. **$\\Delta$MARGIN** : \\\n",
    "GMO = Gross Margin Ratio = Gross Profit scaled by total Sales.\\\n",
    "$\\Delta$MARGIN = current year's GMO - previous year's GMO. The corresponding F-Score element, F_$\\Delta$MARGIN = 1 if $\\Delta$MARGIN > 0, 0 otherwise.\n",
    "\n",
    "9. **$\\Delta$TURN** : \\\n",
    "ATR = Asset Turnover Ratio = Total Sales scaled by the beginning of the year total Assets\\\n",
    "$\\Delta$TURN = Current year's ATR - previous year's ATR. The corresponding F-Score element, F_$\\Delta$TURN = 1 if $\\Delta$TURN > 0, 0 otherwise."
   ]
  },
  {
   "cell_type": "markdown",
   "metadata": {},
   "source": [
    "### Importing necessary modules"
   ]
  },
  {
   "cell_type": "code",
   "execution_count": 479,
   "metadata": {},
   "outputs": [],
   "source": [
    "import pandas as pd\n",
    "from bs4 import BeautifulSoup\n",
    "import bs4\n",
    "import requests\n",
    "from datetime import date\n",
    "import plotly.express as px\n",
    "import numpy as np\n",
    "import seaborn as sns\n",
    "import matplotlib.pyplot as plt\n",
    "from format import format"
   ]
  },
  {
   "cell_type": "markdown",
   "metadata": {},
   "source": [
    "### Getting the list of stocks from NASDAQ"
   ]
  },
  {
   "cell_type": "code",
   "execution_count": 492,
   "metadata": {},
   "outputs": [
    {
     "data": {
      "text/plain": [
       "5743"
      ]
     },
     "execution_count": 492,
     "metadata": {},
     "output_type": "execute_result"
    }
   ],
   "source": [
    "# getting a list of all the stocks from NASDAQ with Market Cap > 0\n",
    "\n",
    "df = pd.read_csv('nasdaq_screener.csv')\n",
    "df = df[df['Market Cap'] > 0]\n",
    "df.reset_index(inplace=True, drop=True)\n",
    "stocks = list(df['Symbol'])\n",
    "len(stocks)"
   ]
  },
  {
   "cell_type": "markdown",
   "metadata": {},
   "source": [
    "### Functions for web-scraping financial statement tables\n",
    "Next, we will define some functions to scrape the marketwatch.com website to get the financial data of the firms required for calculating the F-Score elements, using the financial statements of the firms given on marketwatch.com"
   ]
  },
  {
   "cell_type": "code",
   "execution_count": 491,
   "metadata": {},
   "outputs": [],
   "source": [
    "# functions for web-scraping financial statement tables from marketwatch.com\n",
    "\n",
    "\n",
    "def get_table_simple(table,is_table_tag=True):\n",
    "    '''\n",
    "    This function will use an html table element and will return \n",
    "    a list of lists representing the table\n",
    "    \n",
    "    inputs:\n",
    "    table : an html element\n",
    "    is_table_tag :  True or False (whether the table is an actual html table \n",
    "    element or a simple rows and columns separated by div elements.\n",
    "    \n",
    "    output : returns the table in a list of lists form\n",
    "    '''\n",
    "    elems = table.find_all('tr') if is_table_tag else get_children(table)\n",
    "    table_data = list()\n",
    "    for row in elems:\n",
    "        row_data = list()\n",
    "        row_elems = get_children(row)\n",
    "        for elem in row_elems:\n",
    "            text = elem.text.strip().replace(\"\\n\",\"\")\n",
    "            text = remove_multiple_spaces(text)\n",
    "            if len(text)==0:\n",
    "                continue\n",
    "            row_data.append(text)\n",
    "        table_data.append(row_data)\n",
    "    return table_data\n",
    "\n",
    "def get_children(html_content):\n",
    "    return [item for item in html_content.children if type(item)==bs4.element.Tag or len(str(item).replace(\"\\n\",\"\").strip())>0]\n",
    "\n",
    "def remove_multiple_spaces(string):\n",
    "    if type(string)==str:\n",
    "        return ' '.join(string.split())\n",
    "    return string\n",
    "\n",
    "\n",
    "\n",
    "# function for reading balance sheet data from marketwatch.com using a stock ticker\n",
    "def get_balance_sheet_data(ticker,yr):\n",
    "    '''\n",
    "    The function returns a dictionary of important financial measures for a particular year \n",
    "    obtained from the balance sheet of the firm with stock ticker 'ticker'\n",
    "    \n",
    "    inputs:\n",
    "    ticker: stock ticker of the firm\n",
    "    yr: The year in string notation (e.g. '2020')\n",
    "    \n",
    "    output:\n",
    "    returns a dictionary of the important financial measures \n",
    "    (viz. total assets, total current assets, total liabilities, total current liabilities, \n",
    "    long-term debt and total common equity)\n",
    "    '''\n",
    "    \n",
    "    urlbalancesheet = 'https://www.marketwatch.com/investing/stock/'+ticker+'/financials/balance-sheet'\n",
    "    text_soup_balancesheet = BeautifulSoup(requests.get(urlbalancesheet).text,\"lxml\") #read in\n",
    "    tables_balancesheet = text_soup_balancesheet.findAll('div', {'class': 'financials'})\n",
    "    \n",
    "    bs_assets_table = get_table_simple(tables_balancesheet[0],is_table_tag=True)\n",
    "    bs_assets_table[0].remove('5-year trend')\n",
    "    df_assets = pd.DataFrame.from_records(bs_assets_table[1:],columns=bs_assets_table[0])\n",
    "    df_assets.rename(columns={'ItemItem':'Item'}, inplace=True)\n",
    "    df_assets['Item'] = df_assets['Item'].astype(str).apply(lambda x: x[:len(x)//2])\n",
    "    \n",
    "    bs_liabilities_table = get_table_simple(tables_balancesheet[1],is_table_tag=True)\n",
    "    bs_liabilities_table[0].remove('5-year trend')\n",
    "    df_liabilities = pd.DataFrame.from_records(bs_liabilities_table[1:],columns=bs_liabilities_table[0])\n",
    "    df_liabilities.rename(columns={'ItemItem':'Item'}, inplace=True)\n",
    "    df_liabilities['Item'] = df_liabilities['Item'].astype(str).apply(lambda x: x[:len(x)//2])\n",
    "    \n",
    "    if yr not in df_assets.columns or yr not in df_liabilities.columns:\n",
    "        return {'longTermDebt': None,'totalAssets': None, 'totalCurrentAssets': None, 'totalLiabilities': None, 'totalCurrentLiabilities': None, 'commonStock': None}\n",
    "\n",
    "    totalassets = text_parse(df_assets[df_assets.Item=='Total Assets'][yr].values[0])\n",
    "    totalcurrentassets = text_parse(df_assets[df_assets.Item=='Total Current Assets'][yr].values[0])\n",
    "    \n",
    "    longtermdebt = text_parse(df_liabilities[df_liabilities.Item == 'Long-Term Debt'][yr].values[0])\n",
    "    totalliabilities = text_parse(df_liabilities[df_liabilities.Item == 'Total Liabilities'][yr].values[0])\n",
    "    totalcurrentliabilities = text_parse(df_liabilities[df_liabilities.Item == 'Total Current Liabilities'][yr].values[0])\n",
    "    commonequity = text_parse(df_liabilities[df_liabilities.Item == 'Common Equity (Total)'][yr].values[0])\n",
    "    \n",
    "    return {'longTermDebt':longtermdebt,'totalAssets':totalassets, 'totalCurrentAssets': totalcurrentassets, 'totalLiabilities':totalliabilities, 'totalCurrentLiabilities':totalcurrentliabilities, 'commonStock':commonequity}\n",
    "\n",
    "\n",
    "\n",
    "\n",
    "# function for reading income statement data from marketwatch.com using a stock ticker\n",
    "def get_income_statement_data(ticker,yr):  \n",
    "    '''\n",
    "    The function returns a dictionary of important financial measures for a particular year \n",
    "    obtained from the income statement of the firm with stock ticker 'ticker'\n",
    "    \n",
    "    inputs:\n",
    "    ticker: stock ticker of the firm\n",
    "    yr: The year in string notation (e.g. '2020')\n",
    "    \n",
    "    output:\n",
    "    returns a dictionary of the important financial measures \n",
    "    (viz. Net Income, Gross Profit and Total Revenue)\n",
    "    '''\n",
    "    \n",
    "    url_financials = 'https://www.marketwatch.com/investing/stock/'+ticker+'/financials'\n",
    "    text_soup_financials = BeautifulSoup(requests.get(url_financials).text,\"lxml\") #read in\n",
    "    tables_incomestatement = text_soup_financials.findAll('div', {'class': 'financials'})\n",
    "    \n",
    "    is_table = get_table_simple(tables_incomestatement[0],is_table_tag=True)\n",
    "    is_table[0].remove('5-year trend')\n",
    "    df_is = pd.DataFrame.from_records(is_table[1:],columns=is_table[0])\n",
    "    df_is.rename(columns={'ItemItem':'Item'}, inplace=True)\n",
    "    df_is['Item'] = df_is['Item'].astype(str).apply(lambda x: x[:len(x)//2])\n",
    "    \n",
    "    if yr not in df_is.columns:\n",
    "        return {'netIncome': None,'grossProfit': None,'totalRevenue': None}\n",
    "    \n",
    "    netincome =text_parse(df_is[df_is['Item']=='Net Income'][yr].values[0])\n",
    "    grossprofit = text_parse(df_is[df_is['Item']=='Gross Income'][yr].values[0])\n",
    "    totalsales = text_parse(df_is[df_is['Item']=='Sales/Revenue'][yr].values[0])\n",
    "    \n",
    "    return {'netIncome': netincome,'grossProfit': grossprofit,'totalRevenue': totalsales}\n",
    "\n",
    "\n",
    "\n",
    "\n",
    "# function for reading cash flow statement data from marketwatch.com using a stock ticker\n",
    "def get_cash_flow_data(ticker,yr):  \n",
    "    '''\n",
    "    The function returns a dictionary of important financial measures for a particular year \n",
    "    obtained from the cash flow statement of the firm with stock ticker 'ticker'\n",
    "    \n",
    "    inputs:\n",
    "    ticker: stock ticker of the firm\n",
    "    yr: The year in string notation (e.g. '2020')\n",
    "    \n",
    "    output:\n",
    "    returns a dictionary of the important financial measures \n",
    "    (viz. total cash from operating activities)\n",
    "    '''\n",
    "        \n",
    "    urlcashflow = 'https://www.marketwatch.com/investing/stock/'+ticker+'/financials/cash-flow'\n",
    "    text_soup_cashflow = BeautifulSoup(requests.get(urlcashflow).text,\"lxml\") #read in\n",
    "    tables_cashflow = text_soup_cashflow.findAll('div', {'class': 'financials'})\n",
    "    cf_table = get_table_simple(tables_cashflow[0],is_table_tag=True)\n",
    "    \n",
    "    cf_table[0].remove('5-year trend')\n",
    "    df_cf = pd.DataFrame.from_records(cf_table[1:],columns=cf_table[0])\n",
    "    df_cf.rename(columns={'ItemItem':'Item'}, inplace=True)\n",
    "    df_cf['Item'] = df_cf['Item'].astype(str).apply(lambda x: x[:len(x)//2])\n",
    "    \n",
    "    if yr not in df_cf.columns:\n",
    "        return {'totalCashFromOperatingActivities': None}\n",
    "\n",
    "    cashflowoperating = text_parse(df_cf[df_cf['Item']=='Net Operating Cash Flow'][yr].values[0])\n",
    "    \n",
    "    return {'totalCashFromOperatingActivities': cashflowoperating}\n",
    "\n",
    "\n",
    "\n",
    "\n",
    "def text_parse(text):\n",
    "    '''\n",
    "    This function to convert the string outputs of the \n",
    "    financial statements to float values  \n",
    "    '''\n",
    "    text = text.strip('(').strip(')').strip('$').strip(' ')\n",
    "    if text == '-' or text == '':\n",
    "        return 0    \n",
    "    elif text[-1] == 'T':\n",
    "        return float(text.strip('T'))*1e12\n",
    "    elif text[-1] == 'B':\n",
    "        return float(text.strip('B'))*1e9\n",
    "    elif text[-1] == 'M':\n",
    "        return float(text.strip('M'))*1e6\n",
    "    elif text[-1] == 'K':\n",
    "        return float(text.strip('K'))*1e3\n",
    "    else:\n",
    "        print(text)\n",
    "        raise ValueError\n",
    "        "
   ]
  },
  {
   "cell_type": "markdown",
   "metadata": {},
   "source": [
    "### Getting the Book to Market Value ratios (BM) for all the stocks"
   ]
  },
  {
   "cell_type": "code",
   "execution_count": 551,
   "metadata": {},
   "outputs": [],
   "source": [
    "# getting the book values and market values, and their ratios for all the stocks in the list (wherever available) \n",
    "# for the previous year\n",
    "\n",
    "Book_Value_list = []\n",
    "Market_Cap_list= []\n",
    "B2M_dict = dict()\n",
    "i=0\n",
    "for symbol in stocks:\n",
    "    i+=1\n",
    "    try:\n",
    "        #print(symbol)\n",
    "        Total_Assets_cur_year = get_balance_sheet_data(symbol,'2020')['totalAssets']\n",
    "        Total_Liabilities_cur_year = get_balance_sheet_data(symbol,'2020')['totalLiabilities']\n",
    "        Book_Value = Total_Assets_cur_year-Total_Liabilities_cur_year\n",
    "        Book_Value_list.append(Book_Value)\n",
    "        Market_Cap = df[df.Symbol==symbol]['Market Cap'].values[0]\n",
    "        Market_Cap_list.append(Market_Cap)\n",
    "        B2M = Book_Value/Market_Cap\n",
    "        B2M_dict[symbol]=B2M\n",
    "    except (IndexError, ValueError) as error:\n",
    "        pass\n",
    "\n",
    "    sorted_B2M_dict = {k: v for k, v in sorted(B2M_dict.items(), key=lambda item: item[1], reverse=True)}"
   ]
  },
  {
   "cell_type": "code",
   "execution_count": 545,
   "metadata": {},
   "outputs": [],
   "source": [
    "import json\n",
    "\n",
    "# writing the dictionary containing B2M values of all the firms to a file\n",
    "with open('B2M_dict.txt', 'w') as file:\n",
    "     file.write(json.dumps(B2M_dict))"
   ]
  },
  {
   "cell_type": "markdown",
   "metadata": {},
   "source": [
    "### BM ratio distribution"
   ]
  },
  {
   "cell_type": "code",
   "execution_count": 373,
   "metadata": {},
   "outputs": [
    {
     "data": {
      "text/plain": [
       "(5.356255152943905, 115.70547827721475)"
      ]
     },
     "execution_count": 373,
     "metadata": {},
     "output_type": "execute_result"
    }
   ],
   "source": [
    "# mean and standard deviations of the book to market value ratios of all the stocks\n",
    "np.mean(list(B2M_dict.values())), np.std(list(B2M_dict.values()))"
   ]
  },
  {
   "cell_type": "code",
   "execution_count": 374,
   "metadata": {},
   "outputs": [],
   "source": [
    "# converting the values of the output dictionary to a list\n",
    "B2M_values = list(B2M_dict.values())"
   ]
  },
  {
   "cell_type": "code",
   "execution_count": 550,
   "metadata": {},
   "outputs": [
    {
     "data": {
      "text/plain": [
       "Text(0, 0.5, 'Frequency')"
      ]
     },
     "execution_count": 550,
     "metadata": {},
     "output_type": "execute_result"
    },
    {
     "data": {
      "image/png": "[encoded data removed]",
      "text/plain": [
       "<Figure size 864x576 with 1 Axes>"
      ]
     },
     "metadata": {
      "needs_background": "light"
     },
     "output_type": "display_data"
    }
   ],
   "source": [
    "# plotting the histogram of the book to market value ratios\n",
    "#px.histogram(x=B2M_dict.values(),log_y=True, nbins=12, labels={'x':'Book to Market value ratio', 'y':'Count'})\n",
    "fig, ax = plt.subplots(figsize=(12,8))\n",
    "ax.hist(B2M_values,bins=12, log=True)\n",
    "ax.set_xlabel('Book to Market value ratio', fontsize=20)\n",
    "ax.set_ylabel('Frequency', fontsize=20)"
   ]
  },
  {
   "cell_type": "markdown",
   "metadata": {},
   "source": [
    "### Selecting high BM firms"
   ]
  },
  {
   "cell_type": "code",
   "execution_count": 480,
   "metadata": {},
   "outputs": [
    {
     "data": {
      "text/plain": [
       "0.5983468967003668"
      ]
     },
     "execution_count": 480,
     "metadata": {},
     "output_type": "execute_result"
    }
   ],
   "source": [
    "# threshold value for the top 25% book to market ratios\n",
    "np.quantile(B2M_values, 0.75)"
   ]
  },
  {
   "cell_type": "code",
   "execution_count": 481,
   "metadata": {},
   "outputs": [
    {
     "data": {
      "text/plain": [
       "(21.407043921947952, 230.07215485046513)"
      ]
     },
     "execution_count": 481,
     "metadata": {},
     "output_type": "execute_result"
    }
   ],
   "source": [
    "# selecting the top 25% book to market ratio firms for our sample of high book to market value firms\n",
    "q = 0.75\n",
    "high_B2M_dict = {k:v for k,v in B2M_dict.items() if v>np.quantile(B2M_values, q)}\n",
    "np.mean(list(high_B2M_dict.values())), np.std(list(high_B2M_dict.values()))"
   ]
  },
  {
   "cell_type": "code",
   "execution_count": 546,
   "metadata": {},
   "outputs": [],
   "source": [
    "# writing the dictionary containing the B2M values of high B2M firms to a file\n",
    "with open('high_B2M_dict.txt', 'w') as file:\n",
    "     file.write(json.dumps(high_B2M_dict))"
   ]
  },
  {
   "cell_type": "markdown",
   "metadata": {},
   "source": [
    "### Calculating F-Scores for the high BM firms"
   ]
  },
  {
   "cell_type": "code",
   "execution_count": 552,
   "metadata": {},
   "outputs": [],
   "source": [
    "# getting the 9 different elements of Piotroski's F-Score for or sample of high book to market value firms\n",
    "\n",
    "columns = ['symbol', 'F_ROA', 'F_CFO', 'F_delta_ROA', 'F_ACCRUAL', 'F_delta_LEVER', 'F_delta_LIQUID', 'EQ_OFFER', 'F_delta_MARGIN', 'F_delta_TURN', 'F_SCORE']\n",
    "F_Score_df = pd.DataFrame(columns=columns)\n",
    "\n",
    "for symbol in list(high_B2M_dict.keys()):\n",
    "    #print(symbol)\n",
    "    \n",
    "    try:\n",
    "        # Balance Sheet Data\n",
    "        bs_data_cur_year = get_balance_sheet_data(symbol,'2020')\n",
    "        bs_data_last_year = get_balance_sheet_data(symbol,'2019')\n",
    "        bs_data_lasttolast_year = get_balance_sheet_data(symbol,'2018')\n",
    "\n",
    "        # Income Statement Data\n",
    "        is_data_cur_year = get_income_statement_data(symbol,'2020')\n",
    "        is_data_last_year =  get_income_statement_data(symbol,'2019')\n",
    "\n",
    "        # Cash Flow Data\n",
    "        cf_data_cur_year = get_cash_flow_data(symbol,'2020')\n",
    "\n",
    "\n",
    "        Total_Assets_cur_year = bs_data_cur_year['totalAssets']\n",
    "        Total_Assets_beg_cur_year = bs_data_last_year['totalAssets']\n",
    "        Total_Assets_beg_last_year = bs_data_lasttolast_year['totalAssets']\n",
    "\n",
    "        Net_Income_cur_year = is_data_cur_year['netIncome']\n",
    "        Net_Income_last_year = is_data_last_year['netIncome']\n",
    "\n",
    "        Cash_Flow_From_operations_cur_year = cf_data_cur_year['totalCashFromOperatingActivities']\n",
    "\n",
    "        Total_Long_Term_Debt_cur_year = bs_data_cur_year['longTermDebt']\n",
    "        Total_Long_Term_Debt_last_year = bs_data_last_year['longTermDebt']\n",
    "\n",
    "        Current_Assets_cur_year = bs_data_cur_year['totalCurrentAssets']\n",
    "        Current_Assets_last_year = bs_data_last_year['totalCurrentAssets']\n",
    "\n",
    "        Current_Liabilities_cur_year = bs_data_cur_year['totalCurrentLiabilities']\n",
    "        Current_Liabilities_last_year = bs_data_last_year['totalCurrentLiabilities']\n",
    "\n",
    "        Common_Stock_cur_year = bs_data_cur_year['commonStock']\n",
    "        Common_Stock_last_year = bs_data_last_year['commonStock']\n",
    "\n",
    "        Gross_Profit_cur_year = is_data_cur_year['grossProfit']\n",
    "        Gross_Profit_last_year = is_data_last_year['grossProfit']\n",
    "\n",
    "        Total_Revenue_cur_year = is_data_cur_year['totalRevenue']\n",
    "        Total_Revenue_last_year = is_data_last_year['totalRevenue']\n",
    "\n",
    "        financials = [Total_Assets_cur_year, Total_Assets_beg_cur_year, Total_Assets_beg_last_year,\n",
    "                     Net_Income_cur_year, Net_Income_last_year,\n",
    "                     Cash_Flow_From_operations_cur_year,\n",
    "                     Total_Long_Term_Debt_cur_year, Total_Long_Term_Debt_last_year,\n",
    "                     Current_Assets_cur_year, Current_Assets_last_year,\n",
    "                     Current_Liabilities_cur_year, Current_Liabilities_last_year,\n",
    "                     Common_Stock_cur_year, Common_Stock_last_year,\n",
    "                     Gross_Profit_cur_year, Gross_Profit_last_year,\n",
    "                     Total_Revenue_cur_year, Total_Revenue_last_year]\n",
    "\n",
    "        if None in financials or 0 in financials:\n",
    "            continue\n",
    "\n",
    "        else:\n",
    "\n",
    "            ROA_cur_year = Net_Income_cur_year/Total_Assets_beg_cur_year\n",
    "            F_ROA = 1 if ROA_cur_year > 0 else 0\n",
    "\n",
    "            CFO = Cash_Flow_From_operations_cur_year/Total_Assets_beg_cur_year\n",
    "            F_CFO = 1 if CFO > 0 else 0\n",
    "\n",
    "            ROA_last_year = Net_Income_last_year/Total_Assets_beg_last_year\n",
    "            delta_ROA = ROA_cur_year - ROA_last_year\n",
    "            F_delta_ROA = 1 if delta_ROA > 0 else 0\n",
    "\n",
    "            ACCRUAL = (Net_Income_cur_year - Cash_Flow_From_operations_cur_year)\n",
    "            F_ACCRUAL = 1 if ACCRUAL < 0 else 0\n",
    "\n",
    "            Average_Total_Asset_cur_year = (Total_Assets_cur_year+Total_Assets_beg_cur_year)/2\n",
    "            Average_Total_Asset_last_year = (Total_Assets_beg_cur_year+Total_Assets_beg_last_year)/2\n",
    "            Leverage_cur_year = Total_Long_Term_Debt_cur_year/Average_Total_Asset_cur_year \n",
    "            Leverage_last_year = Total_Long_Term_Debt_last_year/Average_Total_Asset_last_year\n",
    "            delta_LEVER = Leverage_cur_year - Leverage_last_year\n",
    "            F_delta_LEVER = 1 if delta_LEVER < 0 else 0\n",
    "\n",
    "            Current_Ratio_cur_year = Current_Assets_cur_year/Current_Liabilities_cur_year\n",
    "            Current_Ratio_last_year = Current_Assets_last_year/Current_Liabilities_last_year\n",
    "            delta_LIQUID = Current_Ratio_cur_year - Current_Ratio_last_year\n",
    "            F_delta_LIQUID = 1 if delta_LIQUID > 0  else 0\n",
    "\n",
    "            Common_Equities_issued_in_prev_year = Common_Stock_cur_year - Common_Stock_last_year\n",
    "            EQ_OFFER = 1 if Common_Equities_issued_in_prev_year <= 0 else 0\n",
    "\n",
    "            GMO_cur_year = Gross_Profit_cur_year/Total_Revenue_cur_year\n",
    "            GMO_last_year = Gross_Profit_last_year/Total_Revenue_last_year\n",
    "            delta_MARGIN = GMO_cur_year - GMO_last_year\n",
    "            F_delta_MARGIN = 1 if delta_MARGIN > 0 else 0\n",
    "\n",
    "            ATR_cur_year = Total_Revenue_cur_year/Total_Assets_beg_cur_year\n",
    "            ATR_last_year = Total_Revenue_last_year/Total_Assets_beg_last_year\n",
    "            delta_TURN = ATR_cur_year - ATR_last_year\n",
    "            F_delta_TURN = 1 if delta_TURN > 0 else 0\n",
    "\n",
    "            F_SCORE = F_ROA + F_CFO + F_delta_ROA + F_ACCRUAL + F_delta_LEVER + F_delta_LIQUID + EQ_OFFER + F_delta_MARGIN + F_delta_TURN\n",
    "\n",
    "            F_Score_df = F_Score_df.append(pd.DataFrame([[symbol ,F_ROA, F_CFO, F_delta_ROA, F_ACCRUAL, F_delta_LEVER, F_delta_LIQUID, EQ_OFFER, F_delta_MARGIN, F_delta_TURN, F_SCORE]],columns=columns),ignore_index=True)\n",
    "    except IndexError:\n",
    "        pass"
   ]
  },
  {
   "cell_type": "markdown",
   "metadata": {},
   "source": [
    "### F-Score results for the high BM firms"
   ]
  },
  {
   "cell_type": "code",
   "execution_count": 540,
   "metadata": {},
   "outputs": [
    {
     "data": {
      "text/html": [
       "<div>\n",
       "<style scoped>\n",
       "    .dataframe tbody tr th:only-of-type {\n",
       "        vertical-align: middle;\n",
       "    }\n",
       "\n",
       "    .dataframe tbody tr th {\n",
       "        vertical-align: top;\n",
       "    }\n",
       "\n",
       "    .dataframe thead th {\n",
       "        text-align: right;\n",
       "    }\n",
       "</style>\n",
       "<table border=\"1\" class=\"dataframe\">\n",
       "  <thead>\n",
       "    <tr style=\"text-align: right;\">\n",
       "      <th></th>\n",
       "      <th>symbol</th>\n",
       "      <th>F_ROA</th>\n",
       "      <th>F_CFO</th>\n",
       "      <th>F_delta_ROA</th>\n",
       "      <th>F_ACCRUAL</th>\n",
       "      <th>F_delta_LEVER</th>\n",
       "      <th>F_delta_LIQUID</th>\n",
       "      <th>EQ_OFFER</th>\n",
       "      <th>F_delta_MARGIN</th>\n",
       "      <th>F_delta_TURN</th>\n",
       "      <th>F_SCORE</th>\n",
       "    </tr>\n",
       "  </thead>\n",
       "  <tbody>\n",
       "    <tr>\n",
       "      <th>0</th>\n",
       "      <td>AA</td>\n",
       "      <td>1</td>\n",
       "      <td>1</td>\n",
       "      <td>0</td>\n",
       "      <td>1</td>\n",
       "      <td>0</td>\n",
       "      <td>1</td>\n",
       "      <td>1</td>\n",
       "      <td>0</td>\n",
       "      <td>0</td>\n",
       "      <td>5</td>\n",
       "    </tr>\n",
       "    <tr>\n",
       "      <th>1</th>\n",
       "      <td>AAOI</td>\n",
       "      <td>1</td>\n",
       "      <td>1</td>\n",
       "      <td>0</td>\n",
       "      <td>0</td>\n",
       "      <td>1</td>\n",
       "      <td>0</td>\n",
       "      <td>0</td>\n",
       "      <td>0</td>\n",
       "      <td>1</td>\n",
       "      <td>4</td>\n",
       "    </tr>\n",
       "    <tr>\n",
       "      <th>2</th>\n",
       "      <td>AAWW</td>\n",
       "      <td>1</td>\n",
       "      <td>1</td>\n",
       "      <td>1</td>\n",
       "      <td>1</td>\n",
       "      <td>1</td>\n",
       "      <td>1</td>\n",
       "      <td>0</td>\n",
       "      <td>1</td>\n",
       "      <td>1</td>\n",
       "      <td>8</td>\n",
       "    </tr>\n",
       "    <tr>\n",
       "      <th>3</th>\n",
       "      <td>ABEV</td>\n",
       "      <td>1</td>\n",
       "      <td>1</td>\n",
       "      <td>0</td>\n",
       "      <td>1</td>\n",
       "      <td>1</td>\n",
       "      <td>0</td>\n",
       "      <td>0</td>\n",
       "      <td>0</td>\n",
       "      <td>1</td>\n",
       "      <td>5</td>\n",
       "    </tr>\n",
       "    <tr>\n",
       "      <th>4</th>\n",
       "      <td>ACA</td>\n",
       "      <td>1</td>\n",
       "      <td>1</td>\n",
       "      <td>0</td>\n",
       "      <td>1</td>\n",
       "      <td>0</td>\n",
       "      <td>0</td>\n",
       "      <td>0</td>\n",
       "      <td>1</td>\n",
       "      <td>1</td>\n",
       "      <td>5</td>\n",
       "    </tr>\n",
       "    <tr>\n",
       "      <th>...</th>\n",
       "      <td>...</td>\n",
       "      <td>...</td>\n",
       "      <td>...</td>\n",
       "      <td>...</td>\n",
       "      <td>...</td>\n",
       "      <td>...</td>\n",
       "      <td>...</td>\n",
       "      <td>...</td>\n",
       "      <td>...</td>\n",
       "      <td>...</td>\n",
       "      <td>...</td>\n",
       "    </tr>\n",
       "    <tr>\n",
       "      <th>460</th>\n",
       "      <td>XOM</td>\n",
       "      <td>1</td>\n",
       "      <td>1</td>\n",
       "      <td>1</td>\n",
       "      <td>0</td>\n",
       "      <td>0</td>\n",
       "      <td>1</td>\n",
       "      <td>1</td>\n",
       "      <td>0</td>\n",
       "      <td>0</td>\n",
       "      <td>5</td>\n",
       "    </tr>\n",
       "    <tr>\n",
       "      <th>461</th>\n",
       "      <td>XRX</td>\n",
       "      <td>1</td>\n",
       "      <td>1</td>\n",
       "      <td>0</td>\n",
       "      <td>1</td>\n",
       "      <td>0</td>\n",
       "      <td>1</td>\n",
       "      <td>1</td>\n",
       "      <td>0</td>\n",
       "      <td>0</td>\n",
       "      <td>5</td>\n",
       "    </tr>\n",
       "    <tr>\n",
       "      <th>462</th>\n",
       "      <td>YPF</td>\n",
       "      <td>1</td>\n",
       "      <td>1</td>\n",
       "      <td>1</td>\n",
       "      <td>1</td>\n",
       "      <td>1</td>\n",
       "      <td>0</td>\n",
       "      <td>0</td>\n",
       "      <td>0</td>\n",
       "      <td>0</td>\n",
       "      <td>5</td>\n",
       "    </tr>\n",
       "    <tr>\n",
       "      <th>463</th>\n",
       "      <td>ZEUS</td>\n",
       "      <td>1</td>\n",
       "      <td>1</td>\n",
       "      <td>1</td>\n",
       "      <td>1</td>\n",
       "      <td>1</td>\n",
       "      <td>0</td>\n",
       "      <td>1</td>\n",
       "      <td>1</td>\n",
       "      <td>0</td>\n",
       "      <td>7</td>\n",
       "    </tr>\n",
       "    <tr>\n",
       "      <th>464</th>\n",
       "      <td>ZLAB</td>\n",
       "      <td>1</td>\n",
       "      <td>1</td>\n",
       "      <td>1</td>\n",
       "      <td>0</td>\n",
       "      <td>1</td>\n",
       "      <td>1</td>\n",
       "      <td>0</td>\n",
       "      <td>1</td>\n",
       "      <td>1</td>\n",
       "      <td>7</td>\n",
       "    </tr>\n",
       "  </tbody>\n",
       "</table>\n",
       "<p>465 rows × 11 columns</p>\n",
       "</div>"
      ],
      "text/plain": [
       "    symbol F_ROA F_CFO F_delta_ROA F_ACCRUAL F_delta_LEVER F_delta_LIQUID  \\\n",
       "0       AA     1     1           0         1             0              1   \n",
       "1     AAOI     1     1           0         0             1              0   \n",
       "2     AAWW     1     1           1         1             1              1   \n",
       "3     ABEV     1     1           0         1             1              0   \n",
       "4      ACA     1     1           0         1             0              0   \n",
       "..     ...   ...   ...         ...       ...           ...            ...   \n",
       "460    XOM     1     1           1         0             0              1   \n",
       "461    XRX     1     1           0         1             0              1   \n",
       "462    YPF     1     1           1         1             1              0   \n",
       "463   ZEUS     1     1           1         1             1              0   \n",
       "464   ZLAB     1     1           1         0             1              1   \n",
       "\n",
       "    EQ_OFFER F_delta_MARGIN F_delta_TURN F_SCORE  \n",
       "0          1              0            0       5  \n",
       "1          0              0            1       4  \n",
       "2          0              1            1       8  \n",
       "3          0              0            1       5  \n",
       "4          0              1            1       5  \n",
       "..       ...            ...          ...     ...  \n",
       "460        1              0            0       5  \n",
       "461        1              0            0       5  \n",
       "462        0              0            0       5  \n",
       "463        1              1            0       7  \n",
       "464        0              1            1       7  \n",
       "\n",
       "[465 rows x 11 columns]"
      ]
     },
     "execution_count": 540,
     "metadata": {},
     "output_type": "execute_result"
    }
   ],
   "source": [
    "# resulting dataframe\n",
    "#F_Score_df.drop_duplicates(subset=['symbol'],keep='first',inplace=True)\n",
    "F_Score_df"
   ]
  },
  {
   "cell_type": "code",
   "execution_count": 547,
   "metadata": {},
   "outputs": [],
   "source": [
    "# writing output dataframe to a file\n",
    "F_Score_df.to_csv('high_B2M_firms_F_Score_table.csv', index=False)"
   ]
  },
  {
   "cell_type": "markdown",
   "metadata": {},
   "source": [
    "So at the end, we get F-Score results of 466 firms. The **topmost F-Scores** belong to firms whose **fundamentals are imporoving** and are therefore **potential winners**. \n",
    "\n",
    "The **bottommost F-Scores** belong to firms whose **fundamentals are worsening** and are therefore **potential losers**.\n",
    "\n",
    "The optimum trading strategy is to **long the winners and short the losers**."
   ]
  },
  {
   "cell_type": "markdown",
   "metadata": {},
   "source": [
    "### Distribution of F-Scores for high BM firms"
   ]
  },
  {
   "cell_type": "code",
   "execution_count": 541,
   "metadata": {},
   "outputs": [
    {
     "data": {
      "image/png": "[encoded data removed]",
      "text/plain": [
       "<Figure size 864x576 with 1 Axes>"
      ]
     },
     "metadata": {
      "needs_background": "light"
     },
     "output_type": "display_data"
    }
   ],
   "source": [
    "import seaborn as sns\n",
    "fig, ax = plt.subplots(figsize=(12,8))\n",
    "sns.countplot(x='F_SCORE',data=F_Score_df,ax=ax)\n",
    "ax.yaxis.label.set_size(20)\n",
    "ax.xaxis.label.set_size(20)"
   ]
  },
  {
   "cell_type": "code",
   "execution_count": 542,
   "metadata": {},
   "outputs": [
    {
     "data": {
      "text/plain": [
       "(15, 17, 2)"
      ]
     },
     "execution_count": 542,
     "metadata": {},
     "output_type": "execute_result"
    }
   ],
   "source": [
    "len(F_Score_df[F_Score_df.F_SCORE==3]), len(F_Score_df[F_Score_df.F_SCORE==8]), len(F_Score_df[F_Score_df.F_SCORE==9])"
   ]
  },
  {
   "cell_type": "markdown",
   "metadata": {},
   "source": [
    "### Deciding winners and losers\n",
    "\n",
    "As we see in this plot, we didn't find any firms with an F-Score of 0 and 1. We can choose the ~2 firms that have the F-Score of 9 along with the 17 firms with the F-Score of 8 for the long positions and the ~15 firms with F-Score of 3 for the short positions."
   ]
  },
  {
   "cell_type": "markdown",
   "metadata": {},
   "source": [
    "### Potential Winners (Long Positions)"
   ]
  },
  {
   "cell_type": "code",
   "execution_count": 543,
   "metadata": {},
   "outputs": [
    {
     "name": "stdout",
     "output_type": "stream",
     "text": [
      "286    NGD\n",
      "326    PVG\n",
      "Name: symbol, dtype: object\n",
      "2       AAWW\n",
      "33      ATNI\n",
      "36       AUY\n",
      "61       BTG\n",
      "62       BTI\n",
      "70       CBD\n",
      "83       CLW\n",
      "91      CNSL\n",
      "118      DHT\n",
      "120     DISH\n",
      "149     EURN\n",
      "248      LPG\n",
      "256      MBT\n",
      "278      NAT\n",
      "329    QRTEA\n",
      "330    QRTEB\n",
      "377     STNG\n",
      "Name: symbol, dtype: object\n"
     ]
    }
   ],
   "source": [
    "print(F_Score_df[F_Score_df.F_SCORE==9]['symbol'])\n",
    "print(F_Score_df[F_Score_df.F_SCORE==8]['symbol'])"
   ]
  },
  {
   "cell_type": "markdown",
   "metadata": {},
   "source": [
    "### Potential Losers (Short Positions)"
   ]
  },
  {
   "cell_type": "code",
   "execution_count": 544,
   "metadata": {},
   "outputs": [
    {
     "name": "stdout",
     "output_type": "stream",
     "text": [
      "43      BDL\n",
      "45     BEDU\n",
      "75     CECE\n",
      "86     CMTL\n",
      "164    FONR\n",
      "205     HUN\n",
      "212     IMO\n",
      "216     IVC\n",
      "219     JOB\n",
      "246     LND\n",
      "250     LRN\n",
      "268     MOV\n",
      "281      NC\n",
      "297    NTWK\n",
      "312     PHX\n",
      "Name: symbol, dtype: object\n"
     ]
    }
   ],
   "source": [
    "print(F_Score_df[F_Score_df.F_SCORE==3]['symbol'])"
   ]
  }
 ],
 "metadata": {
  "kernelspec": {
   "display_name": "Python 3",
   "language": "python",
   "name": "python3"
  },
  "language_info": {
   "codemirror_mode": {
    "name": "ipython",
    "version": 3
   },
   "file_extension": ".py",
   "mimetype": "text/x-python",
   "name": "python",
   "nbconvert_exporter": "python",
   "pygments_lexer": "ipython3",
   "version": "3.7.9"
  }
 },
 "nbformat": 4,
 "nbformat_minor": 4
}
