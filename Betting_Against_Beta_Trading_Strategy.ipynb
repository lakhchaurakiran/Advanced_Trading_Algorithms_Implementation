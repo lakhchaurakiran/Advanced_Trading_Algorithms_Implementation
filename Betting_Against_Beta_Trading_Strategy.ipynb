{
 "cells": [
  {
   "cell_type": "markdown",
   "metadata": {},
   "source": [
    "## Betting Against Beta\n",
    "\n",
    "**Systematic Risk**: Part of risk that cannot be diversified away.\n",
    "\n",
    "**Beta**: Sensitivity of a firm to systematic risk.\n",
    "\n",
    "Comapnies with **high beta** are known as **aggressive stocks** or **growth stocks**. In other words, companies which have high growth or high uncertainty or high exposure to systmeatic risk have high beta. On the other hand, companies which have low growth usually have **low beta** and are known as **defensives**.\n",
    "\n",
    "## Betting Against Beta Trading strategy\n",
    "The strategy of *Betting against Beta* was proposed by Andrea Frazzini & Lasse Heje Pederson in 2014 in their paper titled \"Betting against Beta\". The idea is that **constrained investors bid-up high-beta assets** so the assets are **overvalued** and therefore their **alphas (returns above the expected value)** are **low** (possibly negative) => **potential losers**. On the other hand firms with **low-beta** have relatively **high alphas** => **potential winners**. The trading strategy is to **long leveraged low-beta assets** and **short high-beta assets**.\n",
    "\n",
    "**Capital Asset Pricing Model (CAPM)**:\\\n",
    "Expected Return = E(R) = R$_f$ + $\\beta$ (R$_m$ - R$_f$)\n",
    "\n",
    "where\\\n",
    "R$_f$ = Risk-free Return; R$_m$ = Market Return; $\\beta$ = Historical beta of the stock\n",
    "\n",
    "Alpha or $\\alpha$ = Extraordinary Return =  Actual Return - Expected Return\n",
    "\n",
    "**Steps in strategy**:\n",
    "1. Get historical beta values for all the firms.\n",
    "2. Sort companies based on the beta values. One can sort the companies by a) industry b) market c) asset class or d) country.\n",
    "3. Find the median value of beta.\n",
    "4. Divide the companies on above median and below median.\n",
    "5. Go long on low beta stocks and short on high beta stocks."
   ]
  },
  {
   "cell_type": "markdown",
   "metadata": {},
   "source": [
    "### Importing necessary modules"
   ]
  },
  {
   "cell_type": "code",
   "execution_count": 3,
   "metadata": {},
   "outputs": [],
   "source": [
    "import pandas as pd\n",
    "from bs4 import BeautifulSoup\n",
    "import bs4\n",
    "import requests\n",
    "from datetime import date\n",
    "import plotly.express as px\n",
    "import numpy as np\n",
    "import seaborn as sns\n",
    "import matplotlib.pyplot as plt\n",
    "from format import format"
   ]
  },
  {
   "cell_type": "markdown",
   "metadata": {},
   "source": [
    "### Gettting the list of stocks from NASDAQ"
   ]
  },
  {
   "cell_type": "code",
   "execution_count": 19,
   "metadata": {},
   "outputs": [
    {
     "data": {
      "text/plain": [
       "5743"
      ]
     },
     "execution_count": 19,
     "metadata": {},
     "output_type": "execute_result"
    }
   ],
   "source": [
    "# getting a list of all the stocks from NASDAQ with Market Cap > 0\n",
    "\n",
    "df = pd.read_csv('nasdaq_screener.csv')\n",
    "df = df[df['Market Cap'] > 0]\n",
    "df.reset_index(inplace=True, drop=True)\n",
    "stocks = list(df['Symbol'])\n",
    "len(stocks)"
   ]
  },
  {
   "cell_type": "markdown",
   "metadata": {},
   "source": [
    "### Functions for web-scraping the beta values of companies"
   ]
  },
  {
   "cell_type": "code",
   "execution_count": 24,
   "metadata": {},
   "outputs": [],
   "source": [
    "# function for getting the historical beta values of stocks from marketwatch.com using the stock ticker\n",
    "def get_beta_values(ticker):\n",
    "    '''\n",
    "    The function returns the historical value of a stock ticker \n",
    "    \n",
    "    inputs:\n",
    "    ticker: stock ticker of the firm\n",
    "    \n",
    "    output:\n",
    "    returns the hostorical beta value of the stock \n",
    "    '''\n",
    "    \n",
    "    urlstock = 'https://www.marketwatch.com/investing/stock/'+ticker\n",
    "    text_soup_stock = BeautifulSoup(requests.get(urlstock, allow_redirects=False).text,\"lxml\") #read in\n",
    "    titles_stock = text_soup_stock.findAll('small', {'class': 'label'})\n",
    "    \n",
    "    betalist = []\n",
    "    \n",
    "    for title in titles_stock:\n",
    "        if 'Beta' in title.text:\n",
    "            betalist.append([td.text for td in title.findNextSiblings(attrs={'class': 'primary'}) if td.text])\n",
    "\n",
    "    return text_parse(betalist[0][0])\n",
    "\n",
    "\n",
    "\n",
    "def text_parse(text):\n",
    "    '''\n",
    "    This function to convert the string outputs of the \n",
    "    financial statements to float values  \n",
    "    '''\n",
    "    if len(text) == 2:\n",
    "        text = text[0]\n",
    "    text = text.strip('(').strip(')').strip('$').strip(' ')\n",
    "    if text == '-' or text == '' or text =='N/A':\n",
    "        return None\n",
    "    elif text[-1] == 'T':\n",
    "        return float(text.strip('T'))*1e12\n",
    "    elif text[-1] == 'B':\n",
    "        return float(text.strip('B'))*1e9\n",
    "    elif text[-1] == 'M':\n",
    "        return float(text.strip('M'))*1e6\n",
    "    elif text[-1] == 'K':\n",
    "        return float(text.strip('K'))*1e3\n",
    "    else:\n",
    "        return float(text)\n",
    "        "
   ]
  },
  {
   "cell_type": "markdown",
   "metadata": {},
   "source": [
    "### Getting the beta values for all the stocks"
   ]
  },
  {
   "cell_type": "code",
   "execution_count": 67,
   "metadata": {},
   "outputs": [],
   "source": [
    "import time\n",
    "columns = ['symbol', 'beta']\n",
    "beta_df = pd.DataFrame(columns=columns)\n",
    "\n",
    "for symbol in stocks:\n",
    "    #print(symbol)\n",
    "    try:\n",
    "        beta = get_beta_values(symbol)\n",
    "        if beta == None:\n",
    "            continue\n",
    "        else:\n",
    "            beta_df = beta_df.append(pd.DataFrame([[symbol, beta]],columns=columns),ignore_index=True)\n",
    "    except IndexError:\n",
    "        pass"
   ]
  },
  {
   "cell_type": "markdown",
   "metadata": {},
   "source": [
    "### Results"
   ]
  },
  {
   "cell_type": "code",
   "execution_count": 71,
   "metadata": {},
   "outputs": [
    {
     "data": {
      "text/html": [
       "<div>\n",
       "<style scoped>\n",
       "    .dataframe tbody tr th:only-of-type {\n",
       "        vertical-align: middle;\n",
       "    }\n",
       "\n",
       "    .dataframe tbody tr th {\n",
       "        vertical-align: top;\n",
       "    }\n",
       "\n",
       "    .dataframe thead th {\n",
       "        text-align: right;\n",
       "    }\n",
       "</style>\n",
       "<table border=\"1\" class=\"dataframe\">\n",
       "  <thead>\n",
       "    <tr style=\"text-align: right;\">\n",
       "      <th></th>\n",
       "      <th>symbol</th>\n",
       "      <th>beta</th>\n",
       "    </tr>\n",
       "  </thead>\n",
       "  <tbody>\n",
       "    <tr>\n",
       "      <th>0</th>\n",
       "      <td>A</td>\n",
       "      <td>0.99</td>\n",
       "    </tr>\n",
       "    <tr>\n",
       "      <th>1</th>\n",
       "      <td>AA</td>\n",
       "      <td>1.53</td>\n",
       "    </tr>\n",
       "    <tr>\n",
       "      <th>2</th>\n",
       "      <td>AACG</td>\n",
       "      <td>0.19</td>\n",
       "    </tr>\n",
       "    <tr>\n",
       "      <th>3</th>\n",
       "      <td>AACQ</td>\n",
       "      <td>0.30</td>\n",
       "    </tr>\n",
       "    <tr>\n",
       "      <th>4</th>\n",
       "      <td>AAIC</td>\n",
       "      <td>1.47</td>\n",
       "    </tr>\n",
       "    <tr>\n",
       "      <th>5</th>\n",
       "      <td>AAL</td>\n",
       "      <td>1.34</td>\n",
       "    </tr>\n",
       "    <tr>\n",
       "      <th>6</th>\n",
       "      <td>AAME</td>\n",
       "      <td>0.29</td>\n",
       "    </tr>\n",
       "    <tr>\n",
       "      <th>7</th>\n",
       "      <td>AAN</td>\n",
       "      <td>0.88</td>\n",
       "    </tr>\n",
       "    <tr>\n",
       "      <th>8</th>\n",
       "      <td>AAOI</td>\n",
       "      <td>1.15</td>\n",
       "    </tr>\n",
       "    <tr>\n",
       "      <th>9</th>\n",
       "      <td>AAON</td>\n",
       "      <td>0.89</td>\n",
       "    </tr>\n",
       "  </tbody>\n",
       "</table>\n",
       "</div>"
      ],
      "text/plain": [
       "  symbol  beta\n",
       "0      A  0.99\n",
       "1     AA  1.53\n",
       "2   AACG  0.19\n",
       "3   AACQ  0.30\n",
       "4   AAIC  1.47\n",
       "5    AAL  1.34\n",
       "6   AAME  0.29\n",
       "7    AAN  0.88\n",
       "8   AAOI  1.15\n",
       "9   AAON  0.89"
      ]
     },
     "execution_count": 71,
     "metadata": {},
     "output_type": "execute_result"
    }
   ],
   "source": [
    "beta_df.head(10)"
   ]
  },
  {
   "cell_type": "markdown",
   "metadata": {},
   "source": [
    "### Distribution of beta values"
   ]
  },
  {
   "cell_type": "code",
   "execution_count": 58,
   "metadata": {
    "scrolled": true
   },
   "outputs": [
    {
     "data": {
      "text/plain": [
       "<AxesSubplot:xlabel='Beta value of firms', ylabel='Frequency'>"
      ]
     },
     "execution_count": 58,
     "metadata": {},
     "output_type": "execute_result"
    },
    {
     "data": {
      "image/png": "[encoded data removed]",
      "text/plain": [
       "<Figure size 720x360 with 1 Axes>"
      ]
     },
     "metadata": {
      "needs_background": "light"
     },
     "output_type": "display_data"
    }
   ],
   "source": [
    "fig, ax = plt.subplots(figsize=(10,5))\n",
    "ax.set_xlabel('Beta value of firms',fontsize=20)\n",
    "ax.set_ylabel('Frequency',fontsize=20)\n",
    "beta_df['beta'].plot.hist(bins=15,log=True,ax=ax)"
   ]
  },
  {
   "cell_type": "markdown",
   "metadata": {},
   "source": [
    "### Median beta value"
   ]
  },
  {
   "cell_type": "code",
   "execution_count": 53,
   "metadata": {},
   "outputs": [
    {
     "data": {
      "text/plain": [
       "1.0"
      ]
     },
     "execution_count": 53,
     "metadata": {},
     "output_type": "execute_result"
    }
   ],
   "source": [
    "median_beta = beta_df['beta'].median()\n",
    "median_beta"
   ]
  },
  {
   "cell_type": "markdown",
   "metadata": {},
   "source": [
    "### High-Beta firms -> Aggressives (Potential Losers)\n",
    "These are the firms above the median beta value"
   ]
  },
  {
   "cell_type": "code",
   "execution_count": 74,
   "metadata": {},
   "outputs": [
    {
     "data": {
      "text/plain": [
       "['AA', 'AAIC', 'AAL', 'AAOI', 'AAPL', 'AAT', 'AAWW', 'AB', 'ABCB', 'ABCL']"
      ]
     },
     "execution_count": 74,
     "metadata": {},
     "output_type": "execute_result"
    }
   ],
   "source": [
    "list(beta_df['symbol'][beta_df['beta'] > median_beta].values)[:10] # printing only first 10 values"
   ]
  },
  {
   "cell_type": "markdown",
   "metadata": {},
   "source": [
    "### Low-Beta firms -> Defensives (Potential Winners)\n",
    "These are the firms below the median beta value"
   ]
  },
  {
   "cell_type": "code",
   "execution_count": 73,
   "metadata": {},
   "outputs": [
    {
     "data": {
      "text/plain": [
       "['A', 'AACG', 'AACQ', 'AAME', 'AAN', 'AAON', 'AAP', 'ABB', 'ABBV', 'ABC']"
      ]
     },
     "execution_count": 73,
     "metadata": {},
     "output_type": "execute_result"
    }
   ],
   "source": [
    "list(beta_df['symbol'][beta_df['beta'] < median_beta].values)[:10] # printing only first 10 values"
   ]
  },
  {
   "cell_type": "code",
   "execution_count": null,
   "metadata": {},
   "outputs": [],
   "source": []
  }
 ],
 "metadata": {
  "kernelspec": {
   "display_name": "Python 3",
   "language": "python",
   "name": "python3"
  },
  "language_info": {
   "codemirror_mode": {
    "name": "ipython",
    "version": 3
   },
   "file_extension": ".py",
   "mimetype": "text/x-python",
   "name": "python",
   "nbconvert_exporter": "python",
   "pygments_lexer": "ipython3",
   "version": "3.7.9"
  }
 },
 "nbformat": 4,
 "nbformat_minor": 4
}
